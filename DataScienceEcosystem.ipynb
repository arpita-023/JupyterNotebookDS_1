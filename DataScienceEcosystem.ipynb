{
 "cells": [
  {
   "cell_type": "markdown",
   "id": "844bdd20-90a0-468b-afb8-e78f5c054a4a",
   "metadata": {},
   "source": [
    "# Data Science Ecosystem"
   ]
  },
  {
   "cell_type": "markdown",
   "id": "2a6e7796-e7fe-438f-b125-12dec891b011",
   "metadata": {},
   "source": [
    "In this notebook, Data Science Tools and Ecosystem are summarized."
   ]
  },
  {
   "cell_type": "markdown",
   "id": "bafb8230-4cfd-40a3-a46b-0ff52aeda75d",
   "metadata": {},
   "source": [
    "**Objectives:**"
   ]
  },
  {
   "cell_type": "markdown",
   "id": "069c5830-fe4e-427d-a7bf-cbab390098ac",
   "metadata": {},
   "source": [
    "- List data science languages in Data Science\n",
    "- List data science libraries in Data Science\n",
    "- Table of Data Science tools in Data Science\n",
    "- Introduction to arithmetic expression in Python\n",
    "- Usage of Code cell"
   ]
  },
  {
   "cell_type": "markdown",
   "id": "e7d8e818-e4ad-4672-84f6-c39a8524d182",
   "metadata": {},
   "source": [
    "Some of the popular languages that Data Scientists use are:"
   ]
  },
  {
   "cell_type": "markdown",
   "id": "f307354e-4339-45dd-9af4-f5eddd725e93",
   "metadata": {},
   "source": [
    "1. Python\n",
    "2. R\n",
    "3. Julia"
   ]
  },
  {
   "cell_type": "markdown",
   "id": "cb2a7b31-9d73-4a98-9979-012d195f45e6",
   "metadata": {},
   "source": [
    "Some of the commonly used libraries used by Data Scientists include:"
   ]
  },
  {
   "cell_type": "markdown",
   "id": "f2cb68cf-d84c-46cf-ae13-61319372dd46",
   "metadata": {},
   "source": [
    "1. Matplotlib\n",
    "2. Pandas\n",
    "3. Numpy\n"
   ]
  },
  {
   "cell_type": "markdown",
   "id": "00f931ea-a4a1-4704-8f98-7739eaa48f5d",
   "metadata": {},
   "source": [
    "|Data Science Tools|\n",
    "|:-:|\n",
    "|Jupyter Notebook|\n",
    "|Apache Spark|\n",
    "|RStudio|"
   ]
  },
  {
   "cell_type": "markdown",
   "id": "0d50ed88-1212-4ffa-a269-465a94c16b94",
   "metadata": {},
   "source": [
    "### Below are a few examples of evaluating arithmetic expressions in Python"
   ]
  },
  {
   "cell_type": "markdown",
   "id": "461d7885-020f-48fa-a100-87562608ca5a",
   "metadata": {},
   "source": [
    "1. Addition (x+y)\n",
    "2. Subtraction (x-y)\n",
    "3. Multiplication (x*y)\n",
    "4. Division (x/y)\n",
    "5. Quotient (x//y)\n",
    "6. Remainder (x%y)\n",
    "7. Exponential (x**y)"
   ]
  },
  {
   "cell_type": "markdown",
   "id": "1139d61b-7045-437a-8eb5-de5204086dc5",
   "metadata": {},
   "source": [
    "This a simple arithmetic expression to mutiply then add integers"
   ]
  },
  {
   "cell_type": "code",
   "execution_count": 1,
   "id": "435805f9-3664-4ed8-8654-a95a474d6686",
   "metadata": {
    "tags": []
   },
   "outputs": [
    {
     "data": {
      "text/plain": [
       "17"
      ]
     },
     "execution_count": 1,
     "metadata": {},
     "output_type": "execute_result"
    }
   ],
   "source": [
    "(3*4)+5"
   ]
  },
  {
   "cell_type": "markdown",
   "id": "63bc9ec3-c413-4167-8bcd-311f0c2f4a78",
   "metadata": {},
   "source": [
    "This will convert 200 minutes to hours by diving by 60"
   ]
  },
  {
   "cell_type": "code",
   "execution_count": 4,
   "id": "9cc732ad-1a54-409b-b2d2-912d082ffb92",
   "metadata": {
    "tags": []
   },
   "outputs": [
    {
     "data": {
      "text/plain": [
       "3.3333333333333335"
      ]
     },
     "execution_count": 4,
     "metadata": {},
     "output_type": "execute_result"
    }
   ],
   "source": [
    "200/60"
   ]
  },
  {
   "cell_type": "markdown",
   "id": "cf75b8e4-80cf-4f3f-b74d-6772b2274bb6",
   "metadata": {
    "tags": []
   },
   "source": [
    "## Author\n",
    "Arpita Viswanathan"
   ]
  },
  {
   "cell_type": "code",
   "execution_count": null,
   "id": "3941e5ec-d92f-428b-8787-ec324eecdb2c",
   "metadata": {},
   "outputs": [],
   "source": []
  }
 ],
 "metadata": {
  "kernelspec": {
   "display_name": "Python",
   "language": "python",
   "name": "conda-env-python-py"
  },
  "language_info": {
   "codemirror_mode": {
    "name": "ipython",
    "version": 3
   },
   "file_extension": ".py",
   "mimetype": "text/x-python",
   "name": "python",
   "nbconvert_exporter": "python",
   "pygments_lexer": "ipython3",
   "version": "3.7.12"
  }
 },
 "nbformat": 4,
 "nbformat_minor": 5
}
